{
 "cells": [
  {
   "cell_type": "markdown",
   "id": "369bdbb8-b399-4667-8c4f-b2bc6c65bf43",
   "metadata": {},
   "source": [
    "#class"
   ]
  },
  {
   "cell_type": "code",
   "execution_count": 16,
   "id": "e73213c6-a62c-48b1-b42c-cc0c47cbb1cf",
   "metadata": {},
   "outputs": [],
   "source": [
    "class car():\n",
    "    def __init__(self,color,engine,year):\n",
    "        self.color=color\n",
    "        self.engine=engine\n",
    "        self.year=year"
   ]
  },
  {
   "cell_type": "code",
   "execution_count": 17,
   "id": "5e8586cd-ae5f-4183-87a1-9210d940aa13",
   "metadata": {},
   "outputs": [],
   "source": [
    "fortuner=car('white','petrol',2025)\n"
   ]
  },
  {
   "cell_type": "raw",
   "id": "b94da52b-5c64-4fd2-9476-47134e450a82",
   "metadata": {},
   "source": [
    "fortuner.color"
   ]
  },
  {
   "cell_type": "code",
   "execution_count": 18,
   "id": "f5abf0bb-f117-48f8-ae4a-7ba260ff050c",
   "metadata": {},
   "outputs": [
    {
     "data": {
      "text/plain": [
       "2025"
      ]
     },
     "execution_count": 18,
     "metadata": {},
     "output_type": "execute_result"
    }
   ],
   "source": [
    "fortuner.year"
   ]
  },
  {
   "cell_type": "raw",
   "id": "cfeb4c18-1ff8-4990-8c99-671ca3f955ab",
   "metadata": {},
   "source": [
    "fortuner.engine"
   ]
  },
  {
   "cell_type": "code",
   "execution_count": 19,
   "id": "02e039aa-b1ed-4048-8d68-f0e69fa80451",
   "metadata": {},
   "outputs": [],
   "source": [
    "nexon=car('black',1500,2026)"
   ]
  },
  {
   "cell_type": "code",
   "execution_count": 20,
   "id": "551e12cd-af8a-418b-8713-984cb514d002",
   "metadata": {},
   "outputs": [
    {
     "data": {
      "text/plain": [
       "'black'"
      ]
     },
     "execution_count": 20,
     "metadata": {},
     "output_type": "execute_result"
    }
   ],
   "source": [
    "nexon.color"
   ]
  },
  {
   "cell_type": "code",
   "execution_count": 21,
   "id": "56f08dff-4f7b-47a6-9162-21ce1d3dc69a",
   "metadata": {},
   "outputs": [
    {
     "data": {
      "text/plain": [
       "1500"
      ]
     },
     "execution_count": 21,
     "metadata": {},
     "output_type": "execute_result"
    }
   ],
   "source": [
    "nexon.engine"
   ]
  },
  {
   "cell_type": "code",
   "execution_count": 22,
   "id": "a650905a-d760-436f-8be6-4e8f33a590e4",
   "metadata": {},
   "outputs": [
    {
     "data": {
      "text/plain": [
       "2026"
      ]
     },
     "execution_count": 22,
     "metadata": {},
     "output_type": "execute_result"
    }
   ],
   "source": [
    "nexon.year"
   ]
  },
  {
   "cell_type": "code",
   "execution_count": 23,
   "id": "88ea794f-f409-4e3b-87f7-3adf2df335da",
   "metadata": {},
   "outputs": [],
   "source": [
    "class info():\n",
    "    def hello(self):\n",
    "        return 'I am info class inside hello function'\n",
    "    def test(self):\n",
    "        return 'This is test function from info class'\n",
    "        "
   ]
  },
  {
   "cell_type": "code",
   "execution_count": 26,
   "id": "04499d71-658c-49d8-bd1b-b3fbd420b5c3",
   "metadata": {},
   "outputs": [],
   "source": [
    "obj=info()"
   ]
  },
  {
   "cell_type": "code",
   "execution_count": 27,
   "id": "e6eb7f19-ec64-45b9-8f51-a17347888d8e",
   "metadata": {},
   "outputs": [
    {
     "data": {
      "text/plain": [
       "'I am info class inside hello function'"
      ]
     },
     "execution_count": 27,
     "metadata": {},
     "output_type": "execute_result"
    }
   ],
   "source": [
    "obj.hello()"
   ]
  },
  {
   "cell_type": "code",
   "execution_count": 28,
   "id": "793c395f-5257-415d-9e0b-566a4def0caf",
   "metadata": {},
   "outputs": [
    {
     "data": {
      "text/plain": [
       "'This is test function from info class'"
      ]
     },
     "execution_count": 28,
     "metadata": {},
     "output_type": "execute_result"
    }
   ],
   "source": [
    "obj.test()"
   ]
  },
  {
   "cell_type": "code",
   "execution_count": 29,
   "id": "48a98fb3-b340-43c7-abf0-e4fa38fa14f7",
   "metadata": {},
   "outputs": [],
   "source": [
    "class house():\n",
    "    def __init__(self,size,floor,type,lift):\n",
    "        self.size=size\n",
    "        self.floor=floor\n",
    "        self.type=type\n",
    "        self.lift=lift\n",
    "    def area(self):\n",
    "        return 'My area of house is',self.size\n",
    "    def open_door(self):\n",
    "        return 'Door is opening'"
   ]
  },
  {
   "cell_type": "code",
   "execution_count": 30,
   "id": "66fdacaf-5577-45d5-b048-7b80226c1c3a",
   "metadata": {},
   "outputs": [],
   "source": [
    "goa_villa=house(2000,3,'Row_House','No')"
   ]
  },
  {
   "cell_type": "code",
   "execution_count": 31,
   "id": "ce71189e-5c75-47fa-8e0e-40738d817920",
   "metadata": {},
   "outputs": [
    {
     "data": {
      "text/plain": [
       "2000"
      ]
     },
     "execution_count": 31,
     "metadata": {},
     "output_type": "execute_result"
    }
   ],
   "source": [
    "goa_villa.size"
   ]
  },
  {
   "cell_type": "code",
   "execution_count": 32,
   "id": "38f5ad37-4e98-4b6e-93e3-52144e0b5ac6",
   "metadata": {},
   "outputs": [
    {
     "data": {
      "text/plain": [
       "3"
      ]
     },
     "execution_count": 32,
     "metadata": {},
     "output_type": "execute_result"
    }
   ],
   "source": [
    "goa_villa.floor"
   ]
  },
  {
   "cell_type": "code",
   "execution_count": 33,
   "id": "feec574e-4b7e-4a84-b009-47f62ac31293",
   "metadata": {},
   "outputs": [
    {
     "data": {
      "text/plain": [
       "'Row_House'"
      ]
     },
     "execution_count": 33,
     "metadata": {},
     "output_type": "execute_result"
    }
   ],
   "source": [
    "goa_villa.type"
   ]
  },
  {
   "cell_type": "code",
   "execution_count": 34,
   "id": "39747473-8f6d-4e94-93ac-d9f207bbe784",
   "metadata": {},
   "outputs": [
    {
     "data": {
      "text/plain": [
       "'No'"
      ]
     },
     "execution_count": 34,
     "metadata": {},
     "output_type": "execute_result"
    }
   ],
   "source": [
    "goa_villa.lift"
   ]
  },
  {
   "cell_type": "code",
   "execution_count": 36,
   "id": "b51ecd31-2215-4f87-9370-52007719d92b",
   "metadata": {},
   "outputs": [],
   "source": [
    "home=house(3453,4,'APT','Yes')"
   ]
  },
  {
   "cell_type": "code",
   "execution_count": 37,
   "id": "5cbb5fbc-f854-41a3-8c12-8a94c3099c47",
   "metadata": {},
   "outputs": [
    {
     "data": {
      "text/plain": [
       "3453"
      ]
     },
     "execution_count": 37,
     "metadata": {},
     "output_type": "execute_result"
    }
   ],
   "source": [
    "home.size"
   ]
  },
  {
   "cell_type": "code",
   "execution_count": 38,
   "id": "6c9cbddc-3e56-4d65-8522-bc9f25ac488e",
   "metadata": {},
   "outputs": [
    {
     "data": {
      "text/plain": [
       "4"
      ]
     },
     "execution_count": 38,
     "metadata": {},
     "output_type": "execute_result"
    }
   ],
   "source": [
    "home.floor"
   ]
  },
  {
   "cell_type": "code",
   "execution_count": 39,
   "id": "41b3961f-7b86-4514-a2b7-239548e48413",
   "metadata": {},
   "outputs": [
    {
     "data": {
      "text/plain": [
       "'APT'"
      ]
     },
     "execution_count": 39,
     "metadata": {},
     "output_type": "execute_result"
    }
   ],
   "source": [
    "home.type"
   ]
  },
  {
   "cell_type": "code",
   "execution_count": 40,
   "id": "db3fbda4-f1c7-4a6c-a99e-fb90ed0b961c",
   "metadata": {},
   "outputs": [
    {
     "data": {
      "text/plain": [
       "'Yes'"
      ]
     },
     "execution_count": 40,
     "metadata": {},
     "output_type": "execute_result"
    }
   ],
   "source": [
    "home.lift"
   ]
  },
  {
   "cell_type": "markdown",
   "id": "8b781271-9ddc-46e3-b02a-31ba13560a8b",
   "metadata": {},
   "source": [
    "#OOPEncapsulation"
   ]
  },
  {
   "cell_type": "code",
   "execution_count": 55,
   "id": "44ebe031-c144-4798-b265-649e9577e205",
   "metadata": {},
   "outputs": [],
   "source": [
    "class student():\n",
    "    def __init__(self,first,last,roll):\n",
    "        self.first=first ##ppublic\n",
    "        self._last=last ##private\n",
    "        self.__roll=roll ##protected"
   ]
  },
  {
   "cell_type": "code",
   "execution_count": 57,
   "id": "c65ad424-f3d2-4eae-8867-8a8391ac9988",
   "metadata": {},
   "outputs": [],
   "source": [
    "x = student('Harshali','Kurapati','50')"
   ]
  },
  {
   "cell_type": "code",
   "execution_count": null,
   "id": "f86a9af5-e64b-48ea-8365-e0e2e7ce4890",
   "metadata": {},
   "outputs": [],
   "source": []
  },
  {
   "cell_type": "code",
   "execution_count": 60,
   "id": "7ed230d5-f0c6-4a99-93e6-311cc5cfd61c",
   "metadata": {},
   "outputs": [
    {
     "data": {
      "text/plain": [
       "'Harshali'"
      ]
     },
     "execution_count": 60,
     "metadata": {},
     "output_type": "execute_result"
    }
   ],
   "source": [
    "x.first"
   ]
  },
  {
   "cell_type": "code",
   "execution_count": 61,
   "id": "9ef08896-01c2-4d45-aab2-b4d99d83532b",
   "metadata": {},
   "outputs": [
    {
     "data": {
      "text/plain": [
       "'Kurapati'"
      ]
     },
     "execution_count": 61,
     "metadata": {},
     "output_type": "execute_result"
    }
   ],
   "source": [
    "x._last"
   ]
  },
  {
   "cell_type": "code",
   "execution_count": 63,
   "id": "2cce3715-ecad-4d1c-b409-76dd00df4b4f",
   "metadata": {},
   "outputs": [
    {
     "data": {
      "text/plain": [
       "'50'"
      ]
     },
     "execution_count": 63,
     "metadata": {},
     "output_type": "execute_result"
    }
   ],
   "source": [
    "x._student__roll\n"
   ]
  },
  {
   "cell_type": "code",
   "execution_count": 64,
   "id": "51917425-e8a5-46f2-b1cb-f967ce582c13",
   "metadata": {},
   "outputs": [],
   "source": [
    "y=student('XYZ','BBB',47644)"
   ]
  },
  {
   "cell_type": "code",
   "execution_count": 65,
   "id": "6b83d36b-5740-42d3-a3fa-d5a94c932b3e",
   "metadata": {},
   "outputs": [
    {
     "data": {
      "text/plain": [
       "'XYZ'"
      ]
     },
     "execution_count": 65,
     "metadata": {},
     "output_type": "execute_result"
    }
   ],
   "source": [
    "y.first"
   ]
  },
  {
   "cell_type": "code",
   "execution_count": 66,
   "id": "f7a4a48e-e3a2-44c7-be40-6df9bad1f804",
   "metadata": {},
   "outputs": [
    {
     "data": {
      "text/plain": [
       "'BBB'"
      ]
     },
     "execution_count": 66,
     "metadata": {},
     "output_type": "execute_result"
    }
   ],
   "source": [
    "y._last"
   ]
  },
  {
   "cell_type": "code",
   "execution_count": 67,
   "id": "b6a1c9a5-6a57-460d-8d69-165a7e66d1a0",
   "metadata": {},
   "outputs": [
    {
     "data": {
      "text/plain": [
       "47644"
      ]
     },
     "execution_count": 67,
     "metadata": {},
     "output_type": "execute_result"
    }
   ],
   "source": [
    "y._student__roll"
   ]
  },
  {
   "cell_type": "markdown",
   "id": "a04b1ffd-90a0-4a35-8c8e-af47af638d59",
   "metadata": {},
   "source": [
    "#Interitance"
   ]
  },
  {
   "cell_type": "code",
   "execution_count": 68,
   "id": "5a71070c-bdd7-45c3-b30d-8bd12b7aaa58",
   "metadata": {},
   "outputs": [],
   "source": [
    "class parent():\n",
    "    def cricket(self):\n",
    "        return 'Child is having palying cricket skill'"
   ]
  },
  {
   "cell_type": "code",
   "execution_count": 69,
   "id": "62c4fdc7-a1f0-4d46-ae27-ff5d6306a066",
   "metadata": {},
   "outputs": [],
   "source": [
    "obj1=parent()"
   ]
  },
  {
   "cell_type": "code",
   "execution_count": 71,
   "id": "1d495458-7f5e-4be4-9134-bbd9592c028c",
   "metadata": {},
   "outputs": [
    {
     "data": {
      "text/plain": [
       "'Child is having palying cricket skill'"
      ]
     },
     "execution_count": 71,
     "metadata": {},
     "output_type": "execute_result"
    }
   ],
   "source": [
    "obj1.cricket()"
   ]
  },
  {
   "cell_type": "code",
   "execution_count": 73,
   "id": "46fe4060-fbaa-465d-b5c9-fcf6e44e398b",
   "metadata": {},
   "outputs": [],
   "source": [
    "class child(parent):\n",
    "    def singning(self):\n",
    "        return'Child is having playing singing'"
   ]
  },
  {
   "cell_type": "code",
   "execution_count": null,
   "id": "0389e6c7-0767-4315-b72c-b2c462f1e5c7",
   "metadata": {},
   "outputs": [],
   "source": []
  },
  {
   "cell_type": "code",
   "execution_count": null,
   "id": "3cb716f4-aaed-4ccc-9040-db9ab2abee60",
   "metadata": {},
   "outputs": [],
   "source": []
  }
 ],
 "metadata": {
  "kernelspec": {
   "display_name": "Python 3 (ipykernel)",
   "language": "python",
   "name": "python3"
  },
  "language_info": {
   "codemirror_mode": {
    "name": "ipython",
    "version": 3
   },
   "file_extension": ".py",
   "mimetype": "text/x-python",
   "name": "python",
   "nbconvert_exporter": "python",
   "pygments_lexer": "ipython3",
   "version": "3.13.2"
  }
 },
 "nbformat": 4,
 "nbformat_minor": 5
}
