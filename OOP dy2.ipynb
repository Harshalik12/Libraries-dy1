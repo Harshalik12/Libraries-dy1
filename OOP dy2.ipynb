{
 "cells": [
  {
   "cell_type": "code",
   "execution_count": null,
   "id": "c475b194-9069-4e47-8f35-79d3c916da5d",
   "metadata": {},
   "outputs": [],
   "source": [
    "#multiple inheritrnce\n",
    "class test1():\n",
    "    def maths(self):\n",
    "        return \"this is test1 class and I am math functio\""
   ]
  },
  {
   "cell_type": "code",
   "execution_count": 2,
   "id": "8542ce7d-43c7-4b15-a90a-fa22890624ec",
   "metadata": {},
   "outputs": [],
   "source": [
    "class test2(test1):\n",
    "    def science(self):\n",
    "        return \"this is test2 class and Iam science function\"\n",
    "        \n",
    "    "
   ]
  },
  {
   "cell_type": "code",
   "execution_count": 3,
   "id": "32000deb-510b-474b-b1e3-027739b3a0d7",
   "metadata": {},
   "outputs": [],
   "source": [
    "class test3(test2):\n",
    "    def history(self):\n",
    "        return \"this is test3 class and Iam history function\"\n",
    "        "
   ]
  },
  {
   "cell_type": "code",
   "execution_count": 4,
   "id": "2e0894b9-1f9a-4a20-b6a7-a63acd117466",
   "metadata": {},
   "outputs": [],
   "source": [
    "obj=test3()"
   ]
  },
  {
   "cell_type": "code",
   "execution_count": 5,
   "id": "005896e7-05e0-444a-9bbf-b4094d3e29b8",
   "metadata": {},
   "outputs": [
    {
     "data": {
      "text/plain": [
       "'this is test1 class and I am math functio'"
      ]
     },
     "execution_count": 5,
     "metadata": {},
     "output_type": "execute_result"
    }
   ],
   "source": [
    "obj.maths()"
   ]
  },
  {
   "cell_type": "code",
   "execution_count": 7,
   "id": "3d082c78-136b-4974-bf9c-5d9b77257654",
   "metadata": {},
   "outputs": [
    {
     "data": {
      "text/plain": [
       "'this is test3 class and Iam history function'"
      ]
     },
     "execution_count": 7,
     "metadata": {},
     "output_type": "execute_result"
    }
   ],
   "source": [
    "obj.history()"
   ]
  },
  {
   "cell_type": "markdown",
   "id": "4f5fd024-0e3b-4de3-8cac-59efa9d87a74",
   "metadata": {},
   "source": [
    "#polymorphisam"
   ]
  },
  {
   "cell_type": "code",
   "execution_count": 9,
   "id": "ea9aba00-aaf8-405a-853c-62868edfcafd",
   "metadata": {},
   "outputs": [],
   "source": [
    "#same function share_story used in the all function \n",
    "class socialmedia:\n",
    "    def share_story():\n",
    "        return \"Sharing story on the social media\"\n",
    "        "
   ]
  },
  {
   "cell_type": "code",
   "execution_count": 14,
   "id": "766aaebd-b5b0-4616-a957-aa58f86167c1",
   "metadata": {},
   "outputs": [],
   "source": [
    "class facebook:\n",
    "    def share_story(self):\n",
    "        return 'Sharing story on th facebook'\n",
    "    "
   ]
  },
  {
   "cell_type": "code",
   "execution_count": 15,
   "id": "79ae3d36-f741-4c72-8c5f-2b6ea5c0a047",
   "metadata": {},
   "outputs": [],
   "source": [
    "class instagram:\n",
    "    def share_story(self):\n",
    "        return 'Sharing story on Instagram '"
   ]
  },
  {
   "cell_type": "code",
   "execution_count": 16,
   "id": "8227d6c9-a775-42f2-b539-4404f5a848cf",
   "metadata": {},
   "outputs": [
    {
     "data": {
      "text/plain": [
       "'Sharing story on Instagram '"
      ]
     },
     "execution_count": 16,
     "metadata": {},
     "output_type": "execute_result"
    }
   ],
   "source": [
    "s= instagram()\n",
    "s.share_story()"
   ]
  },
  {
   "cell_type": "code",
   "execution_count": 36,
   "id": "a002d8fd-b9fe-4b40-b6d5-4781719f7feb",
   "metadata": {},
   "outputs": [],
   "source": [
    "#3)\n",
    "class dog():\n",
    "    def sound(self):\n",
    "        return 'Bark'\n",
    "        \n"
   ]
  },
  {
   "cell_type": "code",
   "execution_count": 20,
   "id": "ba6e6f6b-d14f-415a-ad3e-0c43a7827d1f",
   "metadata": {},
   "outputs": [],
   "source": [
    "class cat():\n",
    "    def sound(self):\n",
    "        return 'Meow'"
   ]
  },
  {
   "cell_type": "code",
   "execution_count": 22,
   "id": "cc2d2931-7d67-48d2-9c90-76ac4e3bbbd6",
   "metadata": {},
   "outputs": [
    {
     "data": {
      "text/plain": [
       "'Bark'"
      ]
     },
     "execution_count": 22,
     "metadata": {},
     "output_type": "execute_result"
    }
   ],
   "source": [
    "a=dog()\n",
    "a.sound()"
   ]
  },
  {
   "cell_type": "code",
   "execution_count": 24,
   "id": "498ce0aa-d422-4ebe-9482-cd9b5e0a4008",
   "metadata": {},
   "outputs": [
    {
     "data": {
      "text/plain": [
       "'Meow'"
      ]
     },
     "execution_count": 24,
     "metadata": {},
     "output_type": "execute_result"
    }
   ],
   "source": [
    "a=cat()\n",
    "a.sound()"
   ]
  },
  {
   "cell_type": "code",
   "execution_count": 35,
   "id": "43f9e721-a222-489f-9cf9-c7ca6e31b5e5",
   "metadata": {},
   "outputs": [],
   "source": [
    "#2)\n",
    "class vehicle():\n",
    "    def start(self):\n",
    "        return'Vehicle start'\n",
    "    "
   ]
  },
  {
   "cell_type": "code",
   "execution_count": 26,
   "id": "87879260-a6df-44bc-b9a9-dae6dddd08ed",
   "metadata": {},
   "outputs": [],
   "source": [
    "class electric_vehicle():\n",
    "    def start(self):\n",
    "        return'Electric vehicles'"
   ]
  },
  {
   "cell_type": "code",
   "execution_count": 28,
   "id": "558f6175-70b4-44ec-a8a6-b45274b32b3e",
   "metadata": {},
   "outputs": [
    {
     "data": {
      "text/plain": [
       "'Vehicle start'"
      ]
     },
     "execution_count": 28,
     "metadata": {},
     "output_type": "execute_result"
    }
   ],
   "source": [
    "b=vehicle()\n",
    "b.start()"
   ]
  },
  {
   "cell_type": "code",
   "execution_count": 33,
   "id": "1e14c7ec-3735-4049-afc2-6077bcc92aa1",
   "metadata": {},
   "outputs": [
    {
     "data": {
      "text/plain": [
       "'Electric vehicles'"
      ]
     },
     "execution_count": 33,
     "metadata": {},
     "output_type": "execute_result"
    }
   ],
   "source": [
    "c=electric_vehicle()\n",
    "c.start()"
   ]
  },
  {
   "cell_type": "code",
   "execution_count": 37,
   "id": "bf25374d-e5f6-4775-acbe-6aa60d6071d1",
   "metadata": {},
   "outputs": [],
   "source": [
    "#4)\n",
    "class student():\n",
    "    def maths(self):\n",
    "        return'my favorite subject'"
   ]
  },
  {
   "cell_type": "code",
   "execution_count": 38,
   "id": "77abc29d-8b1e-4865-be80-ac06caa891ff",
   "metadata": {},
   "outputs": [],
   "source": [
    "class engineering_student():\n",
    "    def maths(self):\n",
    "        return \"Engineerings important subject is mathematics\""
   ]
  },
  {
   "cell_type": "code",
   "execution_count": 39,
   "id": "388d9c49-feb4-44dc-b70b-87316ab3bc74",
   "metadata": {},
   "outputs": [],
   "source": [
    "class thirdyr():\n",
    "    def maths(self):\n",
    "        return\"no maths subject is their in Third Year Engineering\""
   ]
  },
  {
   "cell_type": "code",
   "execution_count": 41,
   "id": "15bb403b-9669-4504-81d2-a02c2988d00d",
   "metadata": {},
   "outputs": [
    {
     "data": {
      "text/plain": [
       "'my favorite subject'"
      ]
     },
     "execution_count": 41,
     "metadata": {},
     "output_type": "execute_result"
    }
   ],
   "source": [
    "x=student()\n",
    "x.maths()"
   ]
  },
  {
   "cell_type": "code",
   "execution_count": 42,
   "id": "9971049c-7650-4dcc-a415-c9995879d2b4",
   "metadata": {},
   "outputs": [
    {
     "data": {
      "text/plain": [
       "'Engineerings important subject is mathematics'"
      ]
     },
     "execution_count": 42,
     "metadata": {},
     "output_type": "execute_result"
    }
   ],
   "source": [
    "y=engineering_student()\n",
    "y.maths()"
   ]
  },
  {
   "cell_type": "code",
   "execution_count": 43,
   "id": "e1935912-b91a-4cd6-8918-df4af4e0ff29",
   "metadata": {},
   "outputs": [
    {
     "data": {
      "text/plain": [
       "'no maths subject is their in Third Year Engineering'"
      ]
     },
     "execution_count": 43,
     "metadata": {},
     "output_type": "execute_result"
    }
   ],
   "source": [
    "z=thirdyr()\n",
    "z.maths()"
   ]
  },
  {
   "cell_type": "markdown",
   "id": "f7abfe5c-99fc-4e7b-b05e-2185e64ae35a",
   "metadata": {},
   "source": [
    "#Abstraction"
   ]
  },
  {
   "cell_type": "code",
   "execution_count": 45,
   "id": "3ef001f8-0bf1-4442-b5f8-d80a7987e997",
   "metadata": {},
   "outputs": [],
   "source": [
    "#1)\n",
    "from abc import ABC,abstractmethod\n",
    "class car(ABC):\n",
    "    @abstractmethod\n",
    "    def start(self):\n",
    "        pass\n",
    "        "
   ]
  },
  {
   "cell_type": "code",
   "execution_count": 52,
   "id": "10c7f934-d5b7-439d-b128-39ae04199cbf",
   "metadata": {},
   "outputs": [],
   "source": [
    "class fortuner(car):\n",
    "    def start(self):\n",
    "        return'fortuner car is started'\n",
    "    def open_sunroof(self):\n",
    "        return'Sunroof is opening of the fortuner car'\n",
    "    def ac(self):\n",
    "        return'Full AC in the fortuner car'\n",
    "        "
   ]
  },
  {
   "cell_type": "code",
   "execution_count": 53,
   "id": "4f64fa71-cbb4-4b95-928e-e607ddd5ea48",
   "metadata": {},
   "outputs": [
    {
     "data": {
      "text/plain": [
       "'fortuner car is started'"
      ]
     },
     "execution_count": 53,
     "metadata": {},
     "output_type": "execute_result"
    }
   ],
   "source": [
    "f=fortuner()\n",
    "f.start()"
   ]
  },
  {
   "cell_type": "code",
   "execution_count": 54,
   "id": "7ad7f727-e531-485c-ba28-65606eabefd5",
   "metadata": {},
   "outputs": [
    {
     "data": {
      "text/plain": [
       "'Sunroof is opening of the fortuner car'"
      ]
     },
     "execution_count": 54,
     "metadata": {},
     "output_type": "execute_result"
    }
   ],
   "source": [
    "f.open_sunroof()"
   ]
  },
  {
   "cell_type": "code",
   "execution_count": 55,
   "id": "c89317c6-a576-46a4-8f05-a99bf05deaca",
   "metadata": {},
   "outputs": [
    {
     "data": {
      "text/plain": [
       "'Full AC in the fortuner car'"
      ]
     },
     "execution_count": 55,
     "metadata": {},
     "output_type": "execute_result"
    }
   ],
   "source": [
    "f.ac()"
   ]
  },
  {
   "cell_type": "code",
   "execution_count": 70,
   "id": "f493d868-10bb-4c5c-bbb8-0cf5aa4aeab7",
   "metadata": {},
   "outputs": [],
   "source": [
    "from abc import ABC,abstractmethod\n",
    "class nexon(car):\n",
    "    @abstractmethod\n",
    "    def start(self):\n",
    "        return'opnening door of nexon'"
   ]
  },
  {
   "cell_type": "code",
   "execution_count": 71,
   "id": "2349105e-a34e-4557-878f-d8ed6d20fb99",
   "metadata": {},
   "outputs": [
    {
     "ename": "TypeError",
     "evalue": "Can't instantiate abstract class nexon without an implementation for abstract method 'start'",
     "output_type": "error",
     "traceback": [
      "\u001b[31m---------------------------------------------------------------------------\u001b[39m",
      "\u001b[31mTypeError\u001b[39m                                 Traceback (most recent call last)",
      "\u001b[36mCell\u001b[39m\u001b[36m \u001b[39m\u001b[32mIn[71]\u001b[39m\u001b[32m, line 1\u001b[39m\n\u001b[32m----> \u001b[39m\u001b[32m1\u001b[39m p=\u001b[43mnexon\u001b[49m\u001b[43m(\u001b[49m\u001b[43m)\u001b[49m\n",
      "\u001b[31mTypeError\u001b[39m: Can't instantiate abstract class nexon without an implementation for abstract method 'start'"
     ]
    }
   ],
   "source": [
    "p=nexon()"
   ]
  },
  {
   "cell_type": "code",
   "execution_count": 72,
   "id": "2f165d44-e1fd-4166-a1a3-19af1da9c333",
   "metadata": {},
   "outputs": [
    {
     "ename": "NameError",
     "evalue": "name 'n' is not defined",
     "output_type": "error",
     "traceback": [
      "\u001b[31m---------------------------------------------------------------------------\u001b[39m",
      "\u001b[31mNameError\u001b[39m                                 Traceback (most recent call last)",
      "\u001b[36mCell\u001b[39m\u001b[36m \u001b[39m\u001b[32mIn[72]\u001b[39m\u001b[32m, line 1\u001b[39m\n\u001b[32m----> \u001b[39m\u001b[32m1\u001b[39m \u001b[43mn\u001b[49m.open_door()\n",
      "\u001b[31mNameError\u001b[39m: name 'n' is not defined"
     ]
    }
   ],
   "source": [
    "n.open_door()"
   ]
  },
  {
   "cell_type": "code",
   "execution_count": 73,
   "id": "d98d3e77-1097-4c1f-8d64-90df93af000e",
   "metadata": {},
   "outputs": [],
   "source": [
    "class shape(ABC):\n",
    "    @abstractmethod\n",
    "    def area(self):\n",
    "        pass\n",
    "        "
   ]
  },
  {
   "cell_type": "code",
   "execution_count": 74,
   "id": "65ded0b6-3405-42db-846d-4715892dc171",
   "metadata": {},
   "outputs": [],
   "source": [
    "class circle(shape):\n",
    "    def area(self):\n",
    "        return'redius * 3.14'"
   ]
  },
  {
   "cell_type": "code",
   "execution_count": 75,
   "id": "1f4a1721-4d52-4103-ad47-7277c2fbf972",
   "metadata": {},
   "outputs": [
    {
     "data": {
      "text/plain": [
       "'redius * 3.14'"
      ]
     },
     "execution_count": 75,
     "metadata": {},
     "output_type": "execute_result"
    }
   ],
   "source": [
    "c1=circle()\n",
    "c1.area()\n"
   ]
  },
  {
   "cell_type": "code",
   "execution_count": null,
   "id": "ecad607d-2a14-41a8-9ee6-9635aadf4c06",
   "metadata": {},
   "outputs": [],
   "source": []
  }
 ],
 "metadata": {
  "kernelspec": {
   "display_name": "Python 3 (ipykernel)",
   "language": "python",
   "name": "python3"
  },
  "language_info": {
   "codemirror_mode": {
    "name": "ipython",
    "version": 3
   },
   "file_extension": ".py",
   "mimetype": "text/x-python",
   "name": "python",
   "nbconvert_exporter": "python",
   "pygments_lexer": "ipython3",
   "version": "3.13.2"
  }
 },
 "nbformat": 4,
 "nbformat_minor": 5
}
